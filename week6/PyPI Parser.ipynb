{
 "cells": [
  {
   "cell_type": "code",
   "execution_count": 12,
   "metadata": {
    "collapsed": true
   },
   "outputs": [],
   "source": [
    "# What you've seen before\n",
    "import re\n",
    "from datetime import datetime\n",
    "import requests\n",
    "import pandas as pd\n",
    "import seaborn as sns\n",
    "import matplotlib.pyplot as plt\n",
    "% matplotlib inline\n",
    "\n",
    "# What's new\n",
    "from bs4 import BeautifulSoup # We'll be using this to scrape through HTML documents\n",
    "import re # We'll be using regular expressions (a bit) to search through text\n",
    "import networkx as nx # We'll be using this to graph a website (not super important)"
   ]
  },
  {
   "cell_type": "code",
   "execution_count": 6,
   "metadata": {},
   "outputs": [
    {
     "data": {
      "text/plain": [
       "<title>beautifulsoup4 4.5.1 : Python Package Index</title>"
      ]
     },
     "execution_count": 6,
     "metadata": {},
     "output_type": "execute_result"
    }
   ],
   "source": [
    "html_doc = requests.get('https://pypi.python.org/pypi/beautifulsoup4/4.5.1').text\n",
    "soup = BeautifulSoup(html_doc, \"html5lib\")"
   ]
  },
  {
   "cell_type": "code",
   "execution_count": null,
   "metadata": {
    "collapsed": true
   },
   "outputs": [],
   "source": [
    "def "
   ]
  },
  {
   "cell_type": "code",
   "execution_count": 126,
   "metadata": {
    "scrolled": true
   },
   "outputs": [
    {
     "data": {
      "text/plain": [
       "{'Author': '  Leonard Richardson',\n",
       " 'Home Page': '  http://www.crummy.com/software/BeautifulSoup/bs4/',\n",
       " 'License': '  MIT',\n",
       " 'Release (upload) Date': datetime.date(2016, 8, 3)}"
      ]
     },
     "execution_count": 126,
     "metadata": {},
     "output_type": "execute_result"
    }
   ],
   "source": [
    "for tagline in soup.find('tr',{'class':'odd'}):\n",
    "    if tagline == None:\n",
    "        continue\n",
    "    match = re.search(r'\\d{4}-\\d{2}-\\d{2}', str(tagline))\n",
    "    if match != None:\n",
    "        date = datetime.strptime(match.group(), '%Y-%m-%d').date()\n",
    "temp = soup.find('ul',{'class':'nodot'}).get_text().split('\\n')\n",
    "temp = [name for name in temp if name.strip()]\n",
    "author = temp[1]\n",
    "homePage = temp[3]\n",
    "license = temp[7]\n",
    "content = {\n",
    "    'Author':author,\n",
    "    'Release (upload) Date':date,\n",
    "    'License':license,\n",
    "    'Home Page':homePage\n",
    "}\n",
    "content"
   ]
  },
  {
   "cell_type": "code",
   "execution_count": 30,
   "metadata": {},
   "outputs": [
    {
     "data": {
      "text/plain": [
       "'2016-08-03'"
      ]
     },
     "execution_count": 30,
     "metadata": {},
     "output_type": "execute_result"
    }
   ],
   "source": [
    "str(date)"
   ]
  },
  {
   "cell_type": "code",
   "execution_count": 124,
   "metadata": {
    "scrolled": true
   },
   "outputs": [
    {
     "data": {
      "text/plain": [
       "['  Author:',\n",
       " '  Leonard Richardson',\n",
       " '  Home Page:',\n",
       " '  http://www.crummy.com/software/BeautifulSoup/bs4/',\n",
       " '  Download URL:',\n",
       " '  http://www.crummy.com/software/BeautifulSoup/bs4/download/',\n",
       " '  License:',\n",
       " '  MIT',\n",
       " '  Categories',\n",
       " '    Development Status :: 5 - Production/Stable',\n",
       " '    Intended Audience :: Developers',\n",
       " '    License :: OSI Approved :: MIT License',\n",
       " '    Programming Language :: Python',\n",
       " '    Programming Language :: Python :: 2.7',\n",
       " '    Programming Language :: Python :: 3',\n",
       " '    Topic :: Software Development :: Libraries :: Python Modules',\n",
       " '    Topic :: Text Processing :: Markup :: HTML',\n",
       " '    Topic :: Text Processing :: Markup :: SGML',\n",
       " '    Topic :: Text Processing :: Markup :: XML',\n",
       " '  Package Index Owner:',\n",
       " '  leonard',\n",
       " '  DOAP record:',\n",
       " '  beautifulsoup4-4.5.1.xml']"
      ]
     },
     "execution_count": 124,
     "metadata": {},
     "output_type": "execute_result"
    }
   ],
   "source": [
    "temp = soup.find('ul',{'class':'nodot'}).get_text().split('\\n')\n",
    "temp = [name for name in temp if name.strip()]\n",
    "author = temp[1]\n",
    "homePage = temp[3]\n",
    "license = temp[7]"
   ]
  },
  {
   "cell_type": "code",
   "execution_count": 121,
   "metadata": {
    "collapsed": true
   },
   "outputs": [],
   "source": [
    "a = soup.find('ul',{'class':'nodot'}).get_text()"
   ]
  },
  {
   "cell_type": "code",
   "execution_count": 122,
   "metadata": {
    "scrolled": true
   },
   "outputs": [
    {
     "data": {
      "text/plain": [
       "'  Leonard Richardson'"
      ]
     },
     "execution_count": 122,
     "metadata": {},
     "output_type": "execute_result"
    }
   ],
   "source": [
    "a = soup.find('ul',{'class':'nodot'}).get_text()\n",
    "a[1]\n",
    "#for i in a:\n",
    " #   print(i)\n",
    "#a = list(filter(none,a))\n",
    "#[x for x in a if x != '']"
   ]
  },
  {
   "cell_type": "code",
   "execution_count": null,
   "metadata": {
    "collapsed": true
   },
   "outputs": [],
   "source": []
  }
 ],
 "metadata": {
  "kernelspec": {
   "display_name": "Python 3",
   "language": "python",
   "name": "python3"
  },
  "language_info": {
   "codemirror_mode": {
    "name": "ipython",
    "version": 3
   },
   "file_extension": ".py",
   "mimetype": "text/x-python",
   "name": "python",
   "nbconvert_exporter": "python",
   "pygments_lexer": "ipython3",
   "version": "3.6.1"
  }
 },
 "nbformat": 4,
 "nbformat_minor": 2
}
